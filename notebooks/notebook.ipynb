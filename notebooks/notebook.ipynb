{
 "cells": [
  {
   "cell_type": "code",
   "execution_count": 1,
   "metadata": {},
   "outputs": [
    {
     "name": "stdout",
     "output_type": "stream",
     "text": [
      "Factorial of 10: 3628800\n",
      "Recursive Time: 0.000002 sec\n",
      "Iterative Time: 0.000002 sec\n"
     ]
    }
   ],
   "source": [
    "import time\n",
    "\n",
    "\n",
    "def factorial_recursive(n):\n",
    "    \"\"\"Computes factorial recursively.\"\"\"\n",
    "    if n == 0 or n == 1:\n",
    "        return 1\n",
    "    return n * factorial_recursive(n - 1)\n",
    "\n",
    "\n",
    "def factorial_iterative(n):\n",
    "    \"\"\"Computes factorial iteratively.\"\"\"\n",
    "    result = 1\n",
    "    for i in range(2, n + 1):\n",
    "        result *= i\n",
    "    return result\n",
    "\n",
    "\n",
    "def compare_factorial_methods(n):\n",
    "    \"\"\"Compares execution times of recursive and iterative factorial calculations.\"\"\"\n",
    "    start = time.time()\n",
    "    rec_result = factorial_recursive(n)\n",
    "    rec_time = time.time() - start\n",
    "\n",
    "    start = time.time()\n",
    "    iter_result = factorial_iterative(n)\n",
    "    iter_time = time.time() - start\n",
    "\n",
    "    print(f\"Factorial of {n}: {rec_result}\")\n",
    "    print(f\"Recursive Time: {rec_time:.6f} sec\")\n",
    "    print(f\"Iterative Time: {iter_time:.6f} sec\")\n",
    "\n",
    "\n",
    "# Test the function with a number\n",
    "compare_factorial_methods(10)"
   ]
  }
 ],
 "metadata": {
  "kernelspec": {
   "display_name": ".venv",
   "language": "python",
   "name": "python3"
  },
  "language_info": {
   "codemirror_mode": {
    "name": "ipython",
    "version": 3
   },
   "file_extension": ".py",
   "mimetype": "text/x-python",
   "name": "python",
   "nbconvert_exporter": "python",
   "pygments_lexer": "ipython3",
   "version": "3.13.1"
  },
  "orig_nbformat": 4
 },
 "nbformat": 4,
 "nbformat_minor": 2
}
